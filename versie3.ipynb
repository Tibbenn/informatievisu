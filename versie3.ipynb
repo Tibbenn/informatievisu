version https://git-lfs.github.com/spec/v1
oid sha256:2f92b87a922c0b938f4ba35cf6425bee1782261aac90e72bd4225acc13ffbdad
size 3917287
