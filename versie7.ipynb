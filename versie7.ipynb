version https://git-lfs.github.com/spec/v1
oid sha256:ca88f0d3d7e2fae7891b9062b279eb14f64d94f2bb30bc5c8f0682c291dbe92c
size 3916899
