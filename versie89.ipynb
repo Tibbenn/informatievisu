version https://git-lfs.github.com/spec/v1
oid sha256:3d4ab0541f7f73612757bb68aafa19fe5121fab2d14da7d65338857637125f60
size 30421
